{
  "nbformat": 4,
  "nbformat_minor": 0,
  "metadata": {
    "colab": {
      "provenance": []
    },
    "kernelspec": {
      "name": "python3",
      "display_name": "Python 3"
    },
    "language_info": {
      "name": "python"
    }
  },
  "cells": [
    {
      "cell_type": "markdown",
      "source": [
        "## numpy"
      ],
      "metadata": {
        "id": "KYC_sSQVHBWo"
      }
    },
    {
      "cell_type": "code",
      "execution_count": null,
      "metadata": {
        "id": "-m4UvzzUBbe-"
      },
      "outputs": [],
      "source": [
        "### 필요한 라이브러리 임폴트\n",
        "import numpy as np"
      ]
    },
    {
      "cell_type": "code",
      "source": [
        "### python list 자료형과 numpy array 자료형 차이점 확인\n",
        "\n",
        "# python list 자료형 데이터 생성\n",
        "list1 = [1, 2, 3]\n",
        "list2 = [4, 5, 6]\n",
        "\n",
        "# list 자료형 --> 덧셈 연산 --> 덧셈(X), 연결(extension)의 의미\n",
        "result = list1 + list2\n",
        "print(f'리스트 자료형 덧셈 연산의 결과 : {result}')\n",
        "\n",
        "print('-'*80)\n",
        "\n",
        "# list 자료형 --> 뺄셈 연산\n",
        "# result = list1 - list2\n",
        "# print(result)\n",
        "\n",
        "print('-'*80)\n",
        "\n",
        "# 넘파이 배열 생성 --> np.array(data)\n",
        "arr1 = np.array(list1)\n",
        "arr2 = np.array(list2)\n",
        "print(f'arr1 출력 : {arr1}')\n",
        "print('-'*80)\n",
        "print(f'arr2 출력 : {arr2}')\n",
        "\n",
        "print('-'*80)\n",
        "\n",
        "# 넘파이 배열 --> 덧셈 연산\n",
        "result = arr1 + arr2\n",
        "print(f'넘파이 배열 자료형 덧셈 연산의 결과 : {result}')\n",
        "\n",
        "print('-'*80)\n",
        "\n",
        "# 넘파이 배열 --> 뺄셈 연산\n",
        "result = arr1 - arr2\n",
        "print(f'넘파이 배열 자료형 뺄셈 연산의 결과 : {result}')"
      ],
      "metadata": {
        "colab": {
          "base_uri": "https://localhost:8080/"
        },
        "id": "_fi2sJ5JHw23",
        "outputId": "6bdc1b6f-a14a-4f71-99a3-dbbe379cf191"
      },
      "execution_count": null,
      "outputs": [
        {
          "output_type": "stream",
          "name": "stdout",
          "text": [
            "리스트 자료형 덧셈 연산의 결과 : [1, 2, 3, 4, 5, 6]\n",
            "--------------------------------------------------------------------------------\n",
            "--------------------------------------------------------------------------------\n",
            "arr1 출력 : [1 2 3]\n",
            "--------------------------------------------------------------------------------\n",
            "arr2 출력 : [4 5 6]\n",
            "--------------------------------------------------------------------------------\n",
            "넘파이 배열 자료형 덧셈 연산의 결과 : [5 7 9]\n",
            "--------------------------------------------------------------------------------\n",
            "넘파이 배열 자료형 뺄셈 연산의 결과 : [-3 -3 -3]\n"
          ]
        }
      ]
    },
    {
      "cell_type": "code",
      "source": [
        "### np.arange(start, stop, step) 함수 이용\n",
        "\n",
        "# 0부터 10미만까지 1만큼의 간격으로 연속적인 정수의 배열 생성\n",
        "# data = [0,1,2,3,4,5,6,7,8,9]\n",
        "arr1 = np.arange(10)\n",
        "print(arr1)"
      ],
      "metadata": {
        "colab": {
          "base_uri": "https://localhost:8080/"
        },
        "id": "zvnueP0MHxJZ",
        "outputId": "a5a7c995-ea5d-4da2-b65c-5ebbcc1f7a46"
      },
      "execution_count": null,
      "outputs": [
        {
          "output_type": "stream",
          "name": "stdout",
          "text": [
            "[0 1 2 3 4 5 6 7 8 9]\n"
          ]
        }
      ]
    },
    {
      "cell_type": "code",
      "source": [
        "### 연습문제\n",
        "arr = np.arange(1,51,1)\n",
        "print(arr)"
      ],
      "metadata": {
        "colab": {
          "base_uri": "https://localhost:8080/"
        },
        "id": "xzSWCc_5B3eJ",
        "outputId": "6bf9a01b-97d1-498b-e78b-91b08985d869"
      },
      "execution_count": null,
      "outputs": [
        {
          "output_type": "stream",
          "name": "stdout",
          "text": [
            "[ 1  2  3  4  5  6  7  8  9 10 11 12 13 14 15 16 17 18 19 20 21 22 23 24\n",
            " 25 26 27 28 29 30 31 32 33 34 35 36 37 38 39 40 41 42 43 44 45 46 47 48\n",
            " 49 50]\n"
          ]
        }
      ]
    },
    {
      "cell_type": "code",
      "source": [
        "### 2차원 배열 생성(1)\n",
        "\n",
        "# 리스트의 리스트가 중첩되는 형태의 리스트 자료형 데이터 생성\n",
        "data_list = [[1,2,3], [4,5,6], [7,8,9]]\n",
        "print(data_list)\n",
        "\n",
        "print('-'*80)\n",
        "\n",
        "# 넘파이 배열 생성 함수 이용 --> 넘파이 배열 생성\n",
        "arr = np.array(data_list)\n",
        "print(arr)"
      ],
      "metadata": {
        "colab": {
          "base_uri": "https://localhost:8080/"
        },
        "id": "HlrijqNQjfUS",
        "outputId": "eda44f6c-24ed-484e-f976-cd390581019d"
      },
      "execution_count": null,
      "outputs": [
        {
          "output_type": "stream",
          "name": "stdout",
          "text": [
            "[[1, 2, 3], [4, 5, 6], [7, 8, 9]]\n",
            "--------------------------------------------------------------------------------\n",
            "[[1 2 3]\n",
            " [4 5 6]\n",
            " [7 8 9]]\n"
          ]
        }
      ]
    },
    {
      "cell_type": "code",
      "source": [
        "### np.reshape 함수\n",
        "\n",
        "# 1차원 데이터 생성\n",
        "arr1 = np.arange(12)\n",
        "print(arr1)\n",
        "\n",
        "print('-'*80)\n",
        "\n",
        "# data = [[0,1,2],[3,4,5],[6,7,8],[9,10,11]]\n",
        "\n",
        "# np.reshape(a, newshape) 사용\n",
        "arr2 = np.reshape(arr1, (4,3))\n",
        "print(arr2)\n",
        "\n",
        "print('-'*80)\n",
        "\n",
        "# 변수.reshape()\n",
        "arr3 = arr1.reshape((4,3))\n",
        "print(arr3)\n",
        "\n",
        "print('-'*80)\n",
        "\n",
        "# 함수().함수()\n",
        "arr4 = np.arange(12).reshape((3,4))\n",
        "print(arr4)"
      ],
      "metadata": {
        "colab": {
          "base_uri": "https://localhost:8080/"
        },
        "id": "xV-ZuHRBB3wf",
        "outputId": "33226846-8083-4697-c8db-20ac9247e2d4"
      },
      "execution_count": null,
      "outputs": [
        {
          "output_type": "stream",
          "name": "stdout",
          "text": [
            "[ 0  1  2  3  4  5  6  7  8  9 10 11]\n",
            "--------------------------------------------------------------------------------\n",
            "[[ 0  1  2]\n",
            " [ 3  4  5]\n",
            " [ 6  7  8]\n",
            " [ 9 10 11]]\n",
            "--------------------------------------------------------------------------------\n",
            "[[ 0  1  2]\n",
            " [ 3  4  5]\n",
            " [ 6  7  8]\n",
            " [ 9 10 11]]\n",
            "--------------------------------------------------------------------------------\n",
            "[[ 0  1  2  3]\n",
            " [ 4  5  6  7]\n",
            " [ 8  9 10 11]]\n"
          ]
        }
      ]
    },
    {
      "cell_type": "code",
      "source": [
        "### 배열의 모양 확인\n",
        "\n",
        "# 1차원 배열 생성 : 1부터 10000까지 +1씩 증가 --> 1차원 배열\n",
        "arr1 = np.arange(1,10001,1)\n",
        "print(arr1)\n",
        "\n",
        "print('-'*80)\n",
        "\n",
        "# 2차원 배열 생성 --> shape=(50,200)\n",
        "arr2 = arr1.reshape((50,200))\n",
        "print(arr2)\n",
        "\n",
        "print('-'*80)\n",
        "\n",
        "# 2차원 배열의 모양 확인\n",
        "shape_info = arr2.shape\n",
        "print(f'2차원 배열의 모양 : {shape_info}')\n",
        "\n",
        "print('-'*80)\n",
        "\n",
        "# 2차원 배열의 성분 원소의 개수 추출 --> len() 함수 사용\n",
        "num = len(arr2)\n",
        "print(f'2차원 배열의 성분 원소의 개수 = {num}개')\n",
        "\n",
        "print('-'*80)\n",
        "\n",
        "# 2차원 배열의 성분 원소의 개수 추출 --> size 속성 변수\n",
        "num_total = arr2.size\n",
        "print(f'2차원 배열의 성분 원소의 개수 = {num_total}개')"
      ],
      "metadata": {
        "id": "GI44mBcUB3_h",
        "colab": {
          "base_uri": "https://localhost:8080/"
        },
        "outputId": "33680ed8-59e5-4041-f2fa-e3fa480dd701"
      },
      "execution_count": null,
      "outputs": [
        {
          "output_type": "stream",
          "name": "stdout",
          "text": [
            "[    1     2     3 ...  9998  9999 10000]\n",
            "--------------------------------------------------------------------------------\n",
            "[[    1     2     3 ...   198   199   200]\n",
            " [  201   202   203 ...   398   399   400]\n",
            " [  401   402   403 ...   598   599   600]\n",
            " ...\n",
            " [ 9401  9402  9403 ...  9598  9599  9600]\n",
            " [ 9601  9602  9603 ...  9798  9799  9800]\n",
            " [ 9801  9802  9803 ...  9998  9999 10000]]\n",
            "--------------------------------------------------------------------------------\n",
            "2차원 배열의 모양 : (50, 200)\n",
            "--------------------------------------------------------------------------------\n",
            "2차원 배열의 성분 원소의 개수 = 50개\n",
            "--------------------------------------------------------------------------------\n",
            "2차원 배열의 성분 원소의 개수 = 10000개\n"
          ]
        }
      ]
    },
    {
      "cell_type": "code",
      "source": [
        "### 3차원 배열 --> 컬러 이미지\n",
        "\n",
        "# 이미지 처리용 라이브러리 임폴트\n",
        "from PIL import Image\n",
        "\n",
        "# 파일 경로 설정\n",
        "file_path='/content/drive/MyDrive/데이터분석/dog.jpg'\n",
        "\n",
        "# 이미지 읽어오기\n",
        "img = Image.open(file_path)\n",
        "\n",
        "# 넘파이 배열로 변환\n",
        "img = np.array(img)\n",
        "print(img)\n",
        "\n",
        "print('-'*80)\n",
        "\n",
        "# 2차원 배열의 수 확인 --> len() 함수 --> 행의 수\n",
        "num1 = len(img)\n",
        "print(f'2차원 배열의 수 = {num1}개')\n",
        "\n",
        "print('-'*80)\n",
        "\n",
        "# 첫번째 행 추출 --> 인덱싱\n",
        "row = img[0, :, :]\n",
        "print(row)\n",
        "\n",
        "print('-'*80)\n",
        "\n",
        "# 첫번째 행(2차원 배열) --> 성분 원소(1차원 배열)\n",
        "num2 = len(row)\n",
        "print(f'첫번째 행에 들어있는 1차원 배열의 수 = {num2}개')"
      ],
      "metadata": {
        "colab": {
          "base_uri": "https://localhost:8080/"
        },
        "id": "G_7G3rhxjJA1",
        "outputId": "433e69c9-6bd1-47bd-b448-3f8101ab237d"
      },
      "execution_count": null,
      "outputs": [
        {
          "output_type": "stream",
          "name": "stdout",
          "text": [
            "[[[168 174 172]\n",
            "  [168 174 172]\n",
            "  [168 174 172]\n",
            "  ...\n",
            "  [172 178 174]\n",
            "  [172 178 174]\n",
            "  [172 178 174]]\n",
            "\n",
            " [[168 174 172]\n",
            "  [168 174 172]\n",
            "  [168 174 172]\n",
            "  ...\n",
            "  [172 178 174]\n",
            "  [172 178 174]\n",
            "  [172 178 174]]\n",
            "\n",
            " [[168 174 172]\n",
            "  [168 174 172]\n",
            "  [168 174 172]\n",
            "  ...\n",
            "  [172 178 174]\n",
            "  [172 178 174]\n",
            "  [172 178 174]]\n",
            "\n",
            " ...\n",
            "\n",
            " [[204 204 202]\n",
            "  [204 204 202]\n",
            "  [204 204 202]\n",
            "  ...\n",
            "  [188 190 187]\n",
            "  [188 190 187]\n",
            "  [188 190 187]]\n",
            "\n",
            " [[204 204 202]\n",
            "  [204 204 202]\n",
            "  [204 204 202]\n",
            "  ...\n",
            "  [188 190 187]\n",
            "  [188 190 187]\n",
            "  [188 190 187]]\n",
            "\n",
            " [[204 204 202]\n",
            "  [204 204 202]\n",
            "  [204 204 202]\n",
            "  ...\n",
            "  [188 190 187]\n",
            "  [188 190 187]\n",
            "  [188 190 187]]]\n",
            "--------------------------------------------------------------------------------\n",
            "2차원 배열의 수 = 512개\n",
            "--------------------------------------------------------------------------------\n",
            "[[168 174 172]\n",
            " [168 174 172]\n",
            " [168 174 172]\n",
            " ...\n",
            " [172 178 174]\n",
            " [172 178 174]\n",
            " [172 178 174]]\n",
            "--------------------------------------------------------------------------------\n",
            "첫번째 행에 들어있는 1차원 배열의 수 = 487개\n"
          ]
        }
      ]
    },
    {
      "cell_type": "code",
      "source": [
        "### 시각화 라이브러리\n",
        "import matplotlib.pyplot as plt\n",
        "\n",
        "# 이미지 시각화 함수 실행\n",
        "plt.imshow(img)"
      ],
      "metadata": {
        "colab": {
          "base_uri": "https://localhost:8080/",
          "height": 453
        },
        "id": "vXVSoyGmjXS2",
        "outputId": "bd24abe7-9520-4457-cb7a-dfdd8fb72f59"
      },
      "execution_count": null,
      "outputs": [
        {
          "output_type": "execute_result",
          "data": {
            "text/plain": [
              "<matplotlib.image.AxesImage at 0x7f891025c3a0>"
            ]
          },
          "metadata": {},
          "execution_count": 24
        },
        {
          "output_type": "display_data",
          "data": {
            "text/plain": [
              "<Figure size 640x480 with 1 Axes>"
            ],
            "image/png": "[encoded data removed]"
          },
          "metadata": {}
        }
      ]
    },
    {
      "cell_type": "code",
      "source": [
        "### 인덱싱 --> 인덱스를 이용 --> 특정 원소 추출\n",
        "\n",
        "# 1차원 배열 생성\n",
        "arr1 = np.arange(1,7)\n",
        "print(arr1)\n",
        "\n",
        "print('-'*80)\n",
        "\n",
        "# 2차원 배열 생성\n",
        "arr2 = arr1.reshape((2,3))\n",
        "print(arr2)\n",
        "\n",
        "print('-'*80)\n",
        "\n",
        "# 인덱싱 --> 행 : 0, 열 : 0\n",
        "\n",
        "#1. python 방식\n",
        "result1 = arr2[0]\n",
        "print(result1)\n",
        "result2 = arr2[0][0]\n",
        "print(result2)\n",
        "\n",
        "print('-'*80)\n",
        "\n",
        "# 2. numpy 방식 --> 구조 활용 --> 2차원 배열 --> (행, 열) --> 변수[행 인덱스, 열 인덱스]\n",
        "print(arr2[0, 0])\n",
        "\n",
        "print('-'*80)\n",
        "\n",
        "# 행 : 0, 열 : 전체 --> 첫번쩨 1차원 배열 추출\n",
        "print(arr2[0, :])"
      ],
      "metadata": {
        "colab": {
          "base_uri": "https://localhost:8080/"
        },
        "id": "dsT5Gq86uc2H",
        "outputId": "0bfa3bfa-5dd8-4571-c416-5bc853786fc3"
      },
      "execution_count": null,
      "outputs": [
        {
          "output_type": "stream",
          "name": "stdout",
          "text": [
            "[1 2 3 4 5 6]\n",
            "--------------------------------------------------------------------------------\n",
            "[[1 2 3]\n",
            " [4 5 6]]\n",
            "--------------------------------------------------------------------------------\n",
            "[1 2 3]\n",
            "1\n",
            "--------------------------------------------------------------------------------\n",
            "1\n",
            "--------------------------------------------------------------------------------\n",
            "[1 2 3]\n"
          ]
        }
      ]
    },
    {
      "cell_type": "code",
      "source": [
        "### 2차원 배열 슬라이싱\n",
        "\n",
        "# 0부터 49까지 +1씩 증가하는 연속적인 정수의 1차원 배열 생성\n",
        "arr1 = np.arange(50)\n",
        "print(arr1)\n",
        "\n",
        "print('-'*80)\n",
        "\n",
        "# shape=(5,10)인 2차원 배열 생성\n",
        "arr2 = arr1.reshape((5,10))\n",
        "print(arr2)\n",
        "\n",
        "print('-'*89)\n",
        "\n",
        "# 행 : 1부터 3까지, 열 : 2부터 4까지\n",
        "arr3 = arr2[1:4, 2:5]\n",
        "print(arr3)"
      ],
      "metadata": {
        "colab": {
          "base_uri": "https://localhost:8080/"
        },
        "id": "6sWzH3zCzE2c",
        "outputId": "9d92c0ce-78d6-4bd4-8aaa-e87b432df655"
      },
      "execution_count": null,
      "outputs": [
        {
          "output_type": "stream",
          "name": "stdout",
          "text": [
            "[ 0  1  2  3  4  5  6  7  8  9 10 11 12 13 14 15 16 17 18 19 20 21 22 23\n",
            " 24 25 26 27 28 29 30 31 32 33 34 35 36 37 38 39 40 41 42 43 44 45 46 47\n",
            " 48 49]\n",
            "--------------------------------------------------------------------------------\n",
            "[[ 0  1  2  3  4  5  6  7  8  9]\n",
            " [10 11 12 13 14 15 16 17 18 19]\n",
            " [20 21 22 23 24 25 26 27 28 29]\n",
            " [30 31 32 33 34 35 36 37 38 39]\n",
            " [40 41 42 43 44 45 46 47 48 49]]\n",
            "-----------------------------------------------------------------------------------------\n",
            "[[12 13 14]\n",
            " [22 23 24]\n",
            " [32 33 34]]\n"
          ]
        }
      ]
    },
    {
      "cell_type": "markdown",
      "source": [
        "## pandas"
      ],
      "metadata": {
        "id": "-f6DtyAa9usu"
      }
    },
    {
      "cell_type": "code",
      "source": [
        "### 필요한 라이브러리 임폴트\n",
        "import pandas as pd"
      ],
      "metadata": {
        "id": "JA9rZKD89xJa"
      },
      "execution_count": null,
      "outputs": []
    },
    {
      "cell_type": "code",
      "source": [
        "### Series 생성\n",
        "\n",
        "# 리스트 생성\n",
        "pop_list = [9904312, 3448737, 2890451, 2466052]\n",
        "# pop_list = 9904312, 3448737, 2890451, 2466052\n",
        "print(pop_list)\n",
        "\n",
        "print('-'*80)\n",
        "\n",
        "# pd.Series(data, index) 함수 사용\n",
        "population = pd.Series(data=pop_list)\n",
        "\n",
        "# 결과 확인하기\n",
        "print(population)"
      ],
      "metadata": {
        "colab": {
          "base_uri": "https://localhost:8080/"
        },
        "id": "YwLin9QhBLx-",
        "outputId": "00b0041c-90be-48e0-f29f-5d9a7462f91d"
      },
      "execution_count": null,
      "outputs": [
        {
          "output_type": "stream",
          "name": "stdout",
          "text": [
            "[9904312, 3448737, 2890451, 2466052]\n",
            "--------------------------------------------------------------------------------\n",
            "0    9904312\n",
            "1    3448737\n",
            "2    2890451\n",
            "3    2466052\n",
            "dtype: int64\n"
          ]
        }
      ]
    },
    {
      "cell_type": "code",
      "source": [
        "### 인덱스를 지정(추가) --> Series 생성\n",
        "\n",
        "# 데이터와 인덱스 생성\n",
        "pop_list = [9904312, 3448737, 2890451, 2466052]\n",
        "pop_index = ['서울','부산','인천','대구']\n",
        "\n",
        "# pd.Series(data, index) 함수 사용\n",
        "population = pd.Series(data=pop_list, index=pop_index)\n",
        "\n",
        "# 결과 확인하기\n",
        "print(population)"
      ],
      "metadata": {
        "colab": {
          "base_uri": "https://localhost:8080/"
        },
        "id": "bhFU4nehD-wu",
        "outputId": "847b19a0-a3a5-4464-b47c-dbee05f0cede"
      },
      "execution_count": null,
      "outputs": [
        {
          "output_type": "stream",
          "name": "stdout",
          "text": [
            "서울    9904312\n",
            "부산    3448737\n",
            "인천    2890451\n",
            "대구    2466052\n",
            "dtype: int64\n"
          ]
        }
      ]
    },
    {
      "cell_type": "code",
      "source": [
        "### dict 자료형 --> Series 생성\n",
        "\n",
        "# python dict 생성\n",
        "pop_dict = {'서울':9904312, '부산':3448737, '인천':2890451, '대구':2466052}\n",
        "\n",
        "# pd.Series() 함수 사용\n",
        "population = pd.Series(data=pop_dict)\n",
        "\n",
        "# 결과 확인하기\n",
        "print(population)"
      ],
      "metadata": {
        "colab": {
          "base_uri": "https://localhost:8080/"
        },
        "id": "YDWDU8IVKuE2",
        "outputId": "98c944da-ace7-41db-b2cc-c4d3998a6d51"
      },
      "execution_count": null,
      "outputs": [
        {
          "output_type": "stream",
          "name": "stdout",
          "text": [
            "서울    9904312\n",
            "부산    3448737\n",
            "인천    2890451\n",
            "대구    2466052\n",
            "dtype: int64\n"
          ]
        }
      ]
    },
    {
      "cell_type": "code",
      "source": [
        "### Series --> 속성 변수 : index, values, shape, size\n",
        "\n",
        "# index 정보 추출 --> 객체.index\n",
        "idx = population.index\n",
        "print(f'인구수의 인덱스 정보 : \\n{idx}')\n",
        "print('-'*80)\n",
        "print(f'인구수의 인덱스 정보의 자료형 : {type(idx)}')\n",
        "\n",
        "print('-'*80)\n",
        "\n",
        "# value 정보 추출 --> 객체.values\n",
        "values = population.values\n",
        "print(f'인구수의 인구수 정보 : \\n{values}')\n",
        "print('-'*80)\n",
        "print(f'인구수 정보의 자료형 : {type(values)}')\n",
        "\n",
        "print('-'*80)\n",
        "\n",
        "# Series 모양 확인 --> 객체.shape\n",
        "print(f'인구수라는 Series 데이터의 모양 : {population.shape}')\n",
        "\n",
        "print('-'*80)\n",
        "\n",
        "# Series 성분 원소의 수 확인 --> 객체.size\n",
        "print(f'인구수라는 Series 데이터의 성분 원소의 수 = {population.size}개')"
      ],
      "metadata": {
        "colab": {
          "base_uri": "https://localhost:8080/"
        },
        "id": "25CY3iO-Jydo",
        "outputId": "b8e0a9a4-9818-4f31-b090-edc951dabb71"
      },
      "execution_count": null,
      "outputs": [
        {
          "output_type": "stream",
          "name": "stdout",
          "text": [
            "인구수의 인덱스 정보 : \n",
            "Index(['서울', '부산', '인천', '대구'], dtype='object')\n",
            "--------------------------------------------------------------------------------\n",
            "인구수의 인덱스 정보의 자료형 : <class 'pandas.core.indexes.base.Index'>\n",
            "--------------------------------------------------------------------------------\n",
            "인구수의 인구수 정보 : \n",
            "[9904312 3448737 2890451 2466052]\n",
            "--------------------------------------------------------------------------------\n",
            "인구수 정보의 자료형 : <class 'numpy.ndarray'>\n",
            "--------------------------------------------------------------------------------\n",
            "인구수라는 Series 데이터의 모양 : (4,)\n",
            "--------------------------------------------------------------------------------\n",
            "인구수라는 Series 데이터의 성분 원소의 수 = 4개\n"
          ]
        }
      ]
    },
    {
      "cell_type": "code",
      "source": [
        "### 인덱스 수정\n",
        "\n",
        "# 수정의 방법 : 변수 = 데이터\n",
        "population.index = ['Seoul', 'Busan', 'Inchon', 'Daegue']\n",
        "\n",
        "# 결과 확인하기\n",
        "print(population)\n",
        "\n",
        "print('-'*80)\n",
        "\n",
        "# 인덱스 재수정\n",
        "population.index = ['서울','부산','인천','대구']\n",
        "\n",
        "# 결과 확인하기\n",
        "print(population)"
      ],
      "metadata": {
        "colab": {
          "base_uri": "https://localhost:8080/"
        },
        "id": "2uNuLSzuP7B4",
        "outputId": "60fc4660-0891-4423-c310-95b485038d4e"
      },
      "execution_count": null,
      "outputs": [
        {
          "output_type": "stream",
          "name": "stdout",
          "text": [
            "Seoul     9904312\n",
            "Busan     3448737\n",
            "Inchon    2890451\n",
            "Daegue    2466052\n",
            "dtype: int64\n",
            "--------------------------------------------------------------------------------\n",
            "서울    9904312\n",
            "부산    3448737\n",
            "인천    2890451\n",
            "대구    2466052\n",
            "dtype: int64\n"
          ]
        }
      ]
    },
    {
      "cell_type": "code",
      "source": [
        "### 인덱싱\n",
        "\n",
        "\"\"\"\n",
        "### 인덱싱 : index 이용 --> 특정 데이터 검색 및 추출\n",
        "\"\"\"\n",
        "\n",
        "# 정수 인덱스 이용 --> 객체.iloc[정수 인덱스] --> index=1을 이용, 인덱싱\n",
        "result1 = population.iloc[1]\n",
        "print(result1)\n",
        "\n",
        "print('-'*80)\n",
        "\n",
        "# 문자열 인덱스 이용 --> index='부산'을 이용, 인덱싱\n",
        "result2 = population.loc['부산']\n",
        "print(result2)\n",
        "\n",
        "print('-'*80)\n",
        "\n",
        "# fancy 인덱싱\n",
        "'''\n",
        "### 객체.loc[[문자열 인덱스1, 문자열 인덱스3, ...]]\n",
        "### 객체.iloc[[정수 인덱스1, 정수 인덱스3, ...]]\n",
        "'''\n",
        "result3 = population.loc[['서울','대구','부산']]\n",
        "print(f'문자열 인덱스를 이용한 fancy 인덱싱의 결과 : \\n{result3}')\n",
        "\n",
        "print('-'*80)\n",
        "\n",
        "result4 = population.iloc[[0,3,1]]\n",
        "print(f'정수 인덱스를 이용한 fancy 인덱싱의 결과 : \\n{result4}')"
      ],
      "metadata": {
        "colab": {
          "base_uri": "https://localhost:8080/"
        },
        "id": "X-kPYRKXStn4",
        "outputId": "53561f1a-cafb-4eac-e41f-cb508b9ce69f"
      },
      "execution_count": null,
      "outputs": [
        {
          "output_type": "stream",
          "name": "stdout",
          "text": [
            "3448737\n",
            "--------------------------------------------------------------------------------\n",
            "3448737\n",
            "--------------------------------------------------------------------------------\n",
            "문자열 인덱스를 이용한 fancy 인덱싱의 결과 : \n",
            "서울    9904312\n",
            "대구    2466052\n",
            "부산    3448737\n",
            "dtype: int64\n",
            "--------------------------------------------------------------------------------\n",
            "정수 인덱스를 이용한 fancy 인덱싱의 결과 : \n",
            "서울    9904312\n",
            "대구    2466052\n",
            "부산    3448737\n",
            "dtype: int64\n"
          ]
        }
      ]
    },
    {
      "cell_type": "code",
      "source": [
        "### 슬라이싱\n",
        "\n",
        "# 정수 인덱스 이용 --> stop 인덱스 포함(X)\n",
        "result1 = population.iloc[1:3]\n",
        "print(result1)\n",
        "\n",
        "print('-'*80)\n",
        "\n",
        "# 문자열 인덱스 이용 --> stop 인덱스 포함(O)\n",
        "result2 = population.loc['부산':'대구']\n",
        "print(result2)"
      ],
      "metadata": {
        "colab": {
          "base_uri": "https://localhost:8080/"
        },
        "id": "GEb18ziBZI6_",
        "outputId": "03e4ec90-7bd5-4d05-8596-5b5806f981ce"
      },
      "execution_count": null,
      "outputs": [
        {
          "output_type": "stream",
          "name": "stdout",
          "text": [
            "부산    3448737\n",
            "인천    2890451\n",
            "dtype: int64\n",
            "--------------------------------------------------------------------------------\n",
            "부산    3448737\n",
            "인천    2890451\n",
            "대구    2466052\n",
            "dtype: int64\n"
          ]
        }
      ]
    },
    {
      "cell_type": "code",
      "source": [
        "### 딕셔너리 자료형으로 DataFrame 생성\n",
        "\n",
        "# 딕셔너리 데이터 생성\n",
        "pop_dict = {'2022':[9436836, 3317812, 2964820, 2365619],\n",
        "            '2015':[9904312, 3448737, 2890451, 2466052],\n",
        "            '2010':[9631482, 3393191, 2632035, 2431774]\n",
        "            }\n",
        "\n",
        "# DataFrame(data) 함수 사용\n",
        "df = pd.DataFrame(data=pop_dict)\n",
        "\n",
        "# 결과 확인하기\n",
        "print(df)"
      ],
      "metadata": {
        "colab": {
          "base_uri": "https://localhost:8080/"
        },
        "id": "hiMtplrweYRV",
        "outputId": "9213e56a-ef63-4d47-9f59-8a3f1c3c74ff"
      },
      "execution_count": null,
      "outputs": [
        {
          "output_type": "stream",
          "name": "stdout",
          "text": [
            "      2022     2015     2010\n",
            "0  9436836  9904312  9631482\n",
            "1  3317812  3448737  3393191\n",
            "2  2964820  2890451  2632035\n",
            "3  2365619  2466052  2431774\n"
          ]
        }
      ]
    },
    {
      "cell_type": "code",
      "source": [
        "### DataFrame 생성 --> 속성 변수 : index, columns, values, shape, size\n",
        "\n",
        "# index(행 인덱스) 추출 --> 객체.index\n",
        "idx = df.index\n",
        "print(f'인덱스 정보 : \\n{idx}')\n",
        "\n",
        "print('-'*80)\n",
        "\n",
        "# column 정보(컬럼 인덱스) 추출 --> 객체.columns\n",
        "cols = df.columns\n",
        "print(f'컬럼 정보 : \\n{cols}')\n",
        "\n",
        "print('-'*80)\n",
        "\n",
        "# 전체 컬럼의 값 추출 --> 객체.values\n",
        "vals = df.values\n",
        "print(f'컬럼의 값 : \\n{vals}')\n",
        "\n",
        "print('-'*80)\n",
        "\n",
        "# DataFrame 모양 확인 --> 객체.shape\n",
        "shape = df.shape\n",
        "print(f'모양 확인 : {shape}')\n",
        "\n",
        "print('-'*80)\n",
        "\n",
        "# DataFrame의 성분 원소의 수 확인 --> 객체.size\n",
        "num_elements = df.size\n",
        "print(f'성분 원소의 수 : {num_elements}개')"
      ],
      "metadata": {
        "colab": {
          "base_uri": "https://localhost:8080/"
        },
        "id": "R4r2MhuJiWXm",
        "outputId": "38a10c73-83c7-49fb-a089-7031ca3b61ee"
      },
      "execution_count": null,
      "outputs": [
        {
          "output_type": "stream",
          "name": "stdout",
          "text": [
            "인덱스 정보 : \n",
            "RangeIndex(start=0, stop=4, step=1)\n",
            "--------------------------------------------------------------------------------\n",
            "컬럼 정보 : \n",
            "Index(['2022', '2015', '2010'], dtype='object')\n",
            "--------------------------------------------------------------------------------\n",
            "컬럼의 값 : \n",
            "[[9436836 9904312 9631482]\n",
            " [3317812 3448737 3393191]\n",
            " [2964820 2890451 2632035]\n",
            " [2365619 2466052 2431774]]\n",
            "--------------------------------------------------------------------------------\n",
            "모양 확인 : (4, 3)\n",
            "--------------------------------------------------------------------------------\n",
            "성분 원소의 수 : 12개\n"
          ]
        }
      ]
    },
    {
      "cell_type": "code",
      "source": [
        "### DataFrame 생성 --> 인덱스 수정\n",
        "\n",
        "# 기존 인덱스 확인\n",
        "print(f'기존 인덱스 : {df.index}')\n",
        "\n",
        "print('-'*80)\n",
        "\n",
        "# 기존 인덱스 --> 문자열 인덱스로 수정 --> 변수 = 데이터\n",
        "df.index = ['Seoul','Busan','Inchon','Daegue']\n",
        "\n",
        "# 결과 확인하기\n",
        "print(df)"
      ],
      "metadata": {
        "colab": {
          "base_uri": "https://localhost:8080/"
        },
        "id": "X4xXkyHCox0W",
        "outputId": "604e8a55-b3b4-4c58-a5ef-261cfbb58404"
      },
      "execution_count": null,
      "outputs": [
        {
          "output_type": "stream",
          "name": "stdout",
          "text": [
            "기존 인덱스 : RangeIndex(start=0, stop=4, step=1)\n",
            "--------------------------------------------------------------------------------\n",
            "           2022     2015     2010\n",
            "Seoul   9436836  9904312  9631482\n",
            "Busan   3317812  3448737  3393191\n",
            "Inchon  2964820  2890451  2632035\n",
            "Daegue  2365619  2466052  2431774\n"
          ]
        }
      ]
    },
    {
      "cell_type": "code",
      "source": [
        "### 전치(Transpose) --> 행과 열을 변환 (행-->열, 열-->행)\n",
        "\n",
        "# 속성 변수 --> 객체.T\n",
        "df1 = df.T\n",
        "print(df1)\n",
        "\n",
        "print('-'*80)\n",
        "\n",
        "# 함수 --> 객체.transpose()\n",
        "df2 = df.transpose()\n",
        "print(df2)"
      ],
      "metadata": {
        "colab": {
          "base_uri": "https://localhost:8080/"
        },
        "id": "gCSLUsC2mB9-",
        "outputId": "dc4389ab-24a8-458b-fb9d-148db1bf3e12"
      },
      "execution_count": null,
      "outputs": [
        {
          "output_type": "stream",
          "name": "stdout",
          "text": [
            "        Seoul    Busan   Inchon   Daegue\n",
            "2022  9436836  3317812  2964820  2365619\n",
            "2015  9904312  3448737  2890451  2466052\n",
            "2010  9631482  3393191  2632035  2431774\n",
            "--------------------------------------------------------------------------------\n",
            "        Seoul    Busan   Inchon   Daegue\n",
            "2022  9436836  3317812  2964820  2365619\n",
            "2015  9904312  3448737  2890451  2466052\n",
            "2010  9631482  3393191  2632035  2431774\n"
          ]
        }
      ]
    },
    {
      "cell_type": "code",
      "source": [
        "### DataFrame 생성 --> 인덱싱\n",
        "\n",
        "## 컬럼 인덱싱 --> 특정 컬럼 1개 추출 --> '2015' 컬럼 추출\n",
        "\n",
        "# 문자열 인덱스를 이용\n",
        "result1 = df.loc[:, '2015']\n",
        "print(result1)\n",
        "\n",
        "print('-'*80)\n",
        "\n",
        "# 정수 인데스를 이용\n",
        "result2 = df.iloc[:, 1]\n",
        "print(result2)\n",
        "\n",
        "print('-'*80)\n",
        "\n",
        "## 행 인덱싱 --> 특정 행 1개 추출 --> '부산' 행 추출\n",
        "\n",
        "# 문자열 인덱스\n",
        "result3 = df.loc['Busan', :]\n",
        "print(result3)\n",
        "\n",
        "print('-'*80)\n",
        "\n",
        "# 정수 인덱스\n",
        "result4 = df.iloc[1, :]\n",
        "print(result4)"
      ],
      "metadata": {
        "colab": {
          "base_uri": "https://localhost:8080/"
        },
        "id": "pfZhRfZyqa9q",
        "outputId": "fe2e869b-a7d6-443e-d0dc-c0860b6863fe"
      },
      "execution_count": null,
      "outputs": [
        {
          "output_type": "stream",
          "name": "stdout",
          "text": [
            "Seoul     9904312\n",
            "Busan     3448737\n",
            "Inchon    2890451\n",
            "Daegue    2466052\n",
            "Name: 2015, dtype: int64\n",
            "--------------------------------------------------------------------------------\n",
            "Seoul     9904312\n",
            "Busan     3448737\n",
            "Inchon    2890451\n",
            "Daegue    2466052\n",
            "Name: 2015, dtype: int64\n",
            "--------------------------------------------------------------------------------\n",
            "2022    3317812\n",
            "2015    3448737\n",
            "2010    3393191\n",
            "Name: Busan, dtype: int64\n",
            "--------------------------------------------------------------------------------\n",
            "2022    3317812\n",
            "2015    3448737\n",
            "2010    3393191\n",
            "Name: Busan, dtype: int64\n"
          ]
        }
      ]
    },
    {
      "cell_type": "code",
      "source": [
        "### fancy 인덱싱(1)\n",
        "\n",
        "# 컬럼에 대한 fancy 인덱싱 --> 2022, 2010 컬럼 추출 --> 문자열 인덱스 이용\n",
        "df1 = df.loc[:, ['2022','2010']]\n",
        "print(f'문자열을 이용한 컬럼에 대한 fancy 인덱싱 : \\n{df1}')\n",
        "\n",
        "print('-'*80)\n",
        "\n",
        "# 컬럼에 대한 fancy 인덱싱 --> 2022, 2010 컬럼 추출 --> 정수 인덱스 이용\n",
        "df2 = df.iloc[:, [0,2]]\n",
        "print(f'정수 인덱스를 이용한 컬럼에 대한 fancy 인덱싱 : \\n{df2}')"
      ],
      "metadata": {
        "colab": {
          "base_uri": "https://localhost:8080/"
        },
        "id": "rthLbPhRFwTT",
        "outputId": "22e5e670-eff0-4954-dd8c-2ff49812e436"
      },
      "execution_count": null,
      "outputs": [
        {
          "output_type": "stream",
          "name": "stdout",
          "text": [
            "문자열을 이용한 컬럼에 대한 fancy 인덱싱 : \n",
            "           2022     2010\n",
            "Seoul   9436836  9631482\n",
            "Busan   3317812  3393191\n",
            "Inchon  2964820  2632035\n",
            "Daegue  2365619  2431774\n",
            "--------------------------------------------------------------------------------\n",
            "정수 인덱스를 이용한 컬럼에 대한 fancy 인덱싱 : \n",
            "           2022     2010\n",
            "Seoul   9436836  9631482\n",
            "Busan   3317812  3393191\n",
            "Inchon  2964820  2632035\n",
            "Daegue  2365619  2431774\n"
          ]
        }
      ]
    },
    {
      "cell_type": "code",
      "source": [
        "### fancy 인덱싱(2)\n",
        "\n",
        "# 행에 대한 fancy 인덱싱 --> 서울, 인천 추출 --> 문자열 인덱스 이용\n",
        "df3 = df.loc[['Seoul','Inchon'], :]\n",
        "print(f'문자열 인덱스를 이용한 행에 대한 fancy 인덱싱 : \\n{df3}')\n",
        "\n",
        "print('-'*80)\n",
        "\n",
        "# 행에 대한 fancy 인덱싱 --> 서울, 인천 추출 --> 정수 인덱스 이용\n",
        "df4 = df.iloc[[0,2], :]\n",
        "print(f'정수 인덱스를 이용한 행에 대한 fancy 인덱싱 : \\n{df4}')"
      ],
      "metadata": {
        "colab": {
          "base_uri": "https://localhost:8080/"
        },
        "id": "F_PWQ5sIHkjh",
        "outputId": "8a43be1f-f3d0-4a20-dc1f-6cdd7a88e52b"
      },
      "execution_count": null,
      "outputs": [
        {
          "output_type": "stream",
          "name": "stdout",
          "text": [
            "문자열 인덱스를 이용한 행에 대한 fancy 인덱싱 : \n",
            "           2022     2015     2010\n",
            "Seoul   9436836  9904312  9631482\n",
            "Inchon  2964820  2890451  2632035\n",
            "--------------------------------------------------------------------------------\n",
            "정수 인덱스를 이용한 행에 대한 fancy 인덱싱 : \n",
            "           2022     2015     2010\n",
            "Seoul   9436836  9904312  9631482\n",
            "Inchon  2964820  2890451  2632035\n"
          ]
        }
      ]
    },
    {
      "cell_type": "code",
      "source": [
        "### fancy 인덱싱 연습 문제\n",
        "\n",
        "# 목표 --> 행 : 서울, 인천 / 컬럼 : 2022, 2020 추출\n",
        "\n",
        "# 풀이\n",
        "# df5 = df.loc[['Seoul','Inchon'], ['2022','2010']]\n",
        "df5 = df.iloc[[0,2],[0,2]]\n",
        "# df5 = df.loc[[0,2],['2022','2010']]\n",
        "\n",
        "# 결과 확인하기\n",
        "print(df5)"
      ],
      "metadata": {
        "colab": {
          "base_uri": "https://localhost:8080/"
        },
        "id": "cvJKCxljI6Hz",
        "outputId": "b9573a44-ac29-4bda-bc34-1bbddd47ff27"
      },
      "execution_count": null,
      "outputs": [
        {
          "output_type": "stream",
          "name": "stdout",
          "text": [
            "           2022     2010\n",
            "Seoul   9436836  9631482\n",
            "Inchon  2964820  2632035\n"
          ]
        }
      ]
    },
    {
      "cell_type": "code",
      "source": [
        "### 슬라이싱\n",
        "\n",
        "# 컬럼 --> 문자열 인덱스 --> 슬라이싱\n",
        "df1 = df.loc[:, '2015':'2010']\n",
        "print(f'문자열 인덱스를 이용한 컬럼에 대한 슬라이싱 : \\n{df1}')\n",
        "\n",
        "print('-'*80)\n",
        "\n",
        "# 컬럼 --> 정수 인데스 --> 슬라이싱\n",
        "df2 = df.iloc[:, 1:]\n",
        "print(f'정수 인데스를 이용한 컬럼에 대한 슬라이싱 : \\n{df2}')"
      ],
      "metadata": {
        "colab": {
          "base_uri": "https://localhost:8080/"
        },
        "id": "siQaijcpMAyi",
        "outputId": "739f7c5d-e01b-44b4-8c83-c7067aafafa5"
      },
      "execution_count": null,
      "outputs": [
        {
          "output_type": "stream",
          "name": "stdout",
          "text": [
            "문자열 인덱스를 이용한 컬럼에 대한 슬라이싱 : \n",
            "           2015     2010\n",
            "Seoul   9904312  9631482\n",
            "Busan   3448737  3393191\n",
            "Inchon  2890451  2632035\n",
            "Daegue  2466052  2431774\n",
            "--------------------------------------------------------------------------------\n",
            "정수 인데스를 이용한 컬럼에 대한 슬라이싱 : \n",
            "           2015     2010\n",
            "Seoul   9904312  9631482\n",
            "Busan   3448737  3393191\n",
            "Inchon  2890451  2632035\n",
            "Daegue  2466052  2431774\n"
          ]
        }
      ]
    },
    {
      "cell_type": "code",
      "source": [
        "### 인덱싱 / 슬라이싱 정리 연습 문제\n",
        "\n",
        "# 1 --> 행 : 서울, 열 : 2022년부터 2015년까지 --> 문자열 인덱스 이용 추출\n",
        "result1 = df.loc['Seoul', '2022':'2015']\n",
        "print(f'1번 문제에 대한 결과 : \\n{result1}')\n",
        "\n",
        "print('-'*80)\n",
        "\n",
        "# 2 --> 행 : 첫번째부터 두번째 행까지, 열 : 두번째부터 끝까지 --> 정수 인덱스 이용 추출\n",
        "result2 = df.iloc[:2, 1:]\n",
        "print(f'2번 문제에 대한 결과 : \\n{result2}')"
      ],
      "metadata": {
        "colab": {
          "base_uri": "https://localhost:8080/"
        },
        "id": "e6keq72bNuyJ",
        "outputId": "82361f9b-bf04-4eb8-a952-e838a2f875f4"
      },
      "execution_count": null,
      "outputs": [
        {
          "output_type": "stream",
          "name": "stdout",
          "text": [
            "1번 문제에 대한 결과 : \n",
            "2022    9436836\n",
            "2015    9904312\n",
            "Name: Seoul, dtype: int64\n",
            "--------------------------------------------------------------------------------\n",
            "2번 문제에 대한 결과 : \n",
            "          2015     2010\n",
            "Seoul  9904312  9631482\n",
            "Busan  3448737  3393191\n"
          ]
        }
      ]
    },
    {
      "cell_type": "code",
      "source": [
        "### DataFrame --> 새로운 컬럼 추가\n",
        "\n",
        "'''\n",
        "변수 = 값\n",
        "'''\n",
        "\n",
        "# 2005년도 인구수 컬럼 추가\n",
        "df.loc[:,'2005'] = [9762546, 3512547, 2517680, 2456016]\n",
        "\n",
        "# 결과 확인하기\n",
        "print(f'컬럼 추가 후 데이터프레임 확인 : \\n{df}')\n",
        "\n",
        "print('-'*80)\n",
        "\n",
        "# 기존 컬럼의 값 수정 --> 대상 : 2005년도 컬럼\n",
        "df.loc[:, '2005'] = [\"\",\"\",\"\",\"\"]\n",
        "print(f'컬럼 값 수정 후 데이터프레임 확인 : \\n{df}')\n",
        "\n",
        "print('-'*80)\n",
        "\n",
        "# 기존 컬럼의 값 재수정 --> 대상 : 2005년도 컬럼\n",
        "df.loc[:,'2005'] = [9762546, 3512547, 2517680, 2456016]\n",
        "print(f'컬럼 값 재수정 후 데이터프레임 확인 : \\n{df}')"
      ],
      "metadata": {
        "colab": {
          "base_uri": "https://localhost:8080/"
        },
        "id": "7MnS8dDVVI-9",
        "outputId": "03d00756-1276-4871-9c4d-d069ab23ac6e"
      },
      "execution_count": null,
      "outputs": [
        {
          "output_type": "stream",
          "name": "stdout",
          "text": [
            "컬럼 추가 후 데이터프레임 확인 : \n",
            "           2022     2015     2010     2005\n",
            "Seoul   9436836  9904312  9631482  9762546\n",
            "Busan   3317812  3448737  3393191  3512547\n",
            "Inchon  2964820  2890451  2632035  2517680\n",
            "Daegue  2365619  2466052  2431774  2456016\n",
            "--------------------------------------------------------------------------------\n",
            "컬럼 값 수정 후 데이터프레임 확인 : \n",
            "           2022     2015     2010 2005\n",
            "Seoul   9436836  9904312  9631482     \n",
            "Busan   3317812  3448737  3393191     \n",
            "Inchon  2964820  2890451  2632035     \n",
            "Daegue  2365619  2466052  2431774     \n",
            "--------------------------------------------------------------------------------\n",
            "컬럼 값 재수정 후 데이터프레임 확인 : \n",
            "           2022     2015     2010     2005\n",
            "Seoul   9436836  9904312  9631482  9762546\n",
            "Busan   3317812  3448737  3393191  3512547\n",
            "Inchon  2964820  2890451  2632035  2517680\n",
            "Daegue  2365619  2466052  2431774  2456016\n"
          ]
        }
      ]
    },
    {
      "cell_type": "code",
      "source": [
        "### 비교 연산자 실습(1)\n",
        "\n",
        "# 두 변수 설정\n",
        "a = 10\n",
        "b = 3\n",
        "\n",
        "# 두 변수의 크기 비교 --> 비교 연산자(>, <, >=, <=, ==, !=)\n",
        "print(a>b)\n",
        "print('-'*80)\n",
        "print(a<b)\n",
        "print('-'*80)\n",
        "print(a>=b)\n",
        "print('-'*80)\n",
        "print(a<=b)\n",
        "print('-'*80)\n",
        "print(a==b)\n",
        "print('-'*80)\n",
        "print(a!=b)"
      ],
      "metadata": {
        "colab": {
          "base_uri": "https://localhost:8080/"
        },
        "id": "EOP7n9DPZT7h",
        "outputId": "7d44050d-695e-4855-9e3e-8774fbbd5f0e"
      },
      "execution_count": null,
      "outputs": [
        {
          "output_type": "stream",
          "name": "stdout",
          "text": [
            "True\n",
            "--------------------------------------------------------------------------------\n",
            "False\n",
            "--------------------------------------------------------------------------------\n",
            "True\n",
            "--------------------------------------------------------------------------------\n",
            "False\n",
            "--------------------------------------------------------------------------------\n",
            "False\n",
            "--------------------------------------------------------------------------------\n",
            "True\n"
          ]
        }
      ]
    },
    {
      "cell_type": "code",
      "source": [
        "### 비교 연산자 실습(2)\n",
        "\n",
        "'''\n",
        "컬럼의 값을 특정 값과 비교\n",
        "예) 2015년도 컬럼의 값 > 30000000\n",
        "'''\n",
        "\n",
        "# 2015년도 컬럼 값 확인\n",
        "vals = df.loc[:, '2015'].values\n",
        "print(f'2015년 컬럼의 값 추출 : \\n{vals}')\n",
        "\n",
        "print('-'*80)\n",
        "\n",
        "# 크기 비교\n",
        "result = vals > 3000000\n",
        "\n",
        "# 결과 확인하기\n",
        "print(result)"
      ],
      "metadata": {
        "colab": {
          "base_uri": "https://localhost:8080/"
        },
        "id": "hOCLuxp0bEWI",
        "outputId": "46815a60-7b12-425c-ffe9-d7a4a250fb64"
      },
      "execution_count": null,
      "outputs": [
        {
          "output_type": "stream",
          "name": "stdout",
          "text": [
            "2015년 컬럼의 값 추출 : \n",
            "[9904312 3448737 2890451 2466052]\n",
            "--------------------------------------------------------------------------------\n",
            "[ True  True False False]\n"
          ]
        }
      ]
    },
    {
      "cell_type": "code",
      "source": [
        "### 논리 연산자(1)\n",
        "\n",
        "# 두 변수 설정\n",
        "a = 10\n",
        "b = 3\n",
        "\n",
        "# &(논리 곱 연산자)\n",
        "condition1 = a>b\n",
        "print(f'첫번째 비교 연산의 결과 : {condition1}')\n",
        "print('-'*80)\n",
        "condition2 = a!=b\n",
        "print(f'두번째 비교 연산의 결과 : {condition2}')\n",
        "print('-'*80)\n",
        "# condition = condition1 & condition2\n",
        "condition = a>b & a!=b\n",
        "print(f'논리 곱 연산의 결과 : {condition}')\n",
        "\n",
        "print('-'*80)\n",
        "\n",
        "# |(논리 합 연산자) --> 합집합\n",
        "condition3 = a<b\n",
        "print(f'세번째 비교 연산의 결과 : {condition3}')\n",
        "print('-'*80)\n",
        "condition4 = a==b\n",
        "print(f'네번째 비교 연산의 결과 : {condition4}')\n",
        "print('-'*80)\n",
        "# condition = condition3 | condition4\n",
        "condition = a<b | a==b\n",
        "print(f'논리 합 연산의 결과 : {condition}')"
      ],
      "metadata": {
        "colab": {
          "base_uri": "https://localhost:8080/"
        },
        "id": "dxTefMbGizmo",
        "outputId": "01d2c441-b955-4ce9-e351-9128f8431607"
      },
      "execution_count": null,
      "outputs": [
        {
          "output_type": "stream",
          "name": "stdout",
          "text": [
            "첫번째 비교 연산의 결과 : True\n",
            "--------------------------------------------------------------------------------\n",
            "두번째 비교 연산의 결과 : True\n",
            "--------------------------------------------------------------------------------\n",
            "논리 곱 연산의 결과 : True\n",
            "--------------------------------------------------------------------------------\n",
            "세번째 비교 연산의 결과 : False\n",
            "--------------------------------------------------------------------------------\n",
            "네번째 비교 연산의 결과 : False\n",
            "--------------------------------------------------------------------------------\n",
            "논리 합 연산의 결과 : False\n"
          ]
        }
      ]
    },
    {
      "cell_type": "code",
      "source": [
        "### 논리 연산자(2)\n",
        "\n",
        "'''\n",
        "1. 2015년도 컬럼의 값 > 3000000\n",
        "2. 2010년도 컬럼의 값 > 4000000\n",
        "3. 1번과 2번의 결과에 대해서 논리 곱 연산 실행\n",
        "'''\n",
        "\n",
        "# 첫번째 비교 연산 : 2015년도 컬럼의 값 > 3000000\n",
        "condition1 = df.loc[:, '2015'] > 3000000\n",
        "print(f'2015년도 컬럼의 값에 대한 비교 연산의 결과 : \\n{condition1}')\n",
        "\n",
        "print('-'*80)\n",
        "\n",
        "# 두번째 비교 연산 : 2010년도 컬럼의 값 > 4000000\n",
        "condition2 = df.loc[:, '2010'] > 4000000\n",
        "print(f'2010년도 컬럼의 값에 대한 비교 연산의 결과 : \\n{condition2}')\n",
        "\n",
        "print('-'*80)\n",
        "\n",
        "# 논리 곱 연산 적용 --> 2015년도 인구수가 3000000보다 크고, 2010년도 인구수도 4000000보다 큰 행(도시)\n",
        "condition = condition1 & condition2\n",
        "# condition = (df.loc[:, '2015'] > 3000000) & (df.loc[:, '2010'] > 4000000)\n",
        "print(f'논리 곱 연산의 결과 : \\n{condition}')"
      ],
      "metadata": {
        "colab": {
          "base_uri": "https://localhost:8080/"
        },
        "id": "fLA12uhSltUI",
        "outputId": "a0c128d1-8b3c-4d74-af39-f7876504bf74"
      },
      "execution_count": null,
      "outputs": [
        {
          "output_type": "stream",
          "name": "stdout",
          "text": [
            "2015년도 컬럼의 값에 대한 비교 연산의 결과 : \n",
            "Seoul      True\n",
            "Busan      True\n",
            "Inchon    False\n",
            "Daegue    False\n",
            "Name: 2015, dtype: bool\n",
            "--------------------------------------------------------------------------------\n",
            "2010년도 컬럼의 값에 대한 비교 연산의 결과 : \n",
            "Seoul      True\n",
            "Busan     False\n",
            "Inchon    False\n",
            "Daegue    False\n",
            "Name: 2010, dtype: bool\n",
            "--------------------------------------------------------------------------------\n",
            "논리 곱 연산의 결과 : \n",
            "Seoul      True\n",
            "Busan     False\n",
            "Inchon    False\n",
            "Daegue    False\n",
            "dtype: bool\n"
          ]
        }
      ]
    },
    {
      "cell_type": "code",
      "source": [
        "### boolean 인덱싱\n",
        "\n",
        "# 비교 연산의 결과 --> 인덱싱 적용 --> 결과 : True 행 추출\n",
        "result1 = df.loc[:, '2015'].loc[condition1]\n",
        "print(f'비교 연산의 결과를 이용한 블리언 인덱싱의 결과 : \\n{result1}')\n",
        "\n",
        "print('-'*80)\n",
        "\n",
        "# 논리 연산의 결과 --> 인덱싱 적용\n",
        "result2 = df.loc[condition, :]\n",
        "print(f'논리 연산의 결과를 이용한 블리언 인덱싱의 결과 : \\n{result2}')"
      ],
      "metadata": {
        "colab": {
          "base_uri": "https://localhost:8080/"
        },
        "id": "NTqVjZvWtdFY",
        "outputId": "22c3b05a-30ac-40f7-8913-ede989c6442d"
      },
      "execution_count": null,
      "outputs": [
        {
          "output_type": "stream",
          "name": "stdout",
          "text": [
            "비교 연산의 결과를 이용한 블리언 인덱싱의 결과 : \n",
            "Seoul    9904312\n",
            "Busan    3448737\n",
            "Name: 2015, dtype: int64\n",
            "--------------------------------------------------------------------------------\n",
            "논리 연산의 결과를 이용한 블리언 인덱싱의 결과 : \n",
            "          2022     2015     2010     2005\n",
            "Seoul  9436836  9904312  9631482  9762546\n"
          ]
        }
      ]
    },
    {
      "cell_type": "code",
      "source": [
        "print(df)"
      ],
      "metadata": {
        "colab": {
          "base_uri": "https://localhost:8080/"
        },
        "id": "lPQxnj180cLf",
        "outputId": "6fad5205-4d6f-4176-ba0d-21f709c2132f"
      },
      "execution_count": null,
      "outputs": [
        {
          "output_type": "stream",
          "name": "stdout",
          "text": [
            "           2022     2015     2010     2005\n",
            "Seoul   9436836  9904312  9631482  9762546\n",
            "Busan   3317812  3448737  3393191  3512547\n",
            "Inchon  2964820  2890451  2632035  2517680\n",
            "Daegue  2365619  2466052  2431774  2456016\n"
          ]
        }
      ]
    },
    {
      "cell_type": "code",
      "source": [
        "### 2차원 배열을 이용 --> DataFrame 생성\n",
        "\n",
        "# 2차원 배열 생성 --> 기존 DataFrame 전치 --> 값 추출\n",
        "df1 = df.T\n",
        "vals = df1.values\n",
        "print(f'기존 데이터프레임을 전치한 후 값만 추출 : \\n{vals}')\n",
        "\n",
        "print('-'*80)\n",
        "\n",
        "# 2차원 배열 --> 새로운 데이터프레임 생성\n",
        "index = df.columns\n",
        "columns = df.index\n",
        "df_new = pd.DataFrame(data=vals, index=index, columns=columns)\n",
        "\n",
        "# 결과 확인하기\n",
        "print(df_new)"
      ],
      "metadata": {
        "colab": {
          "base_uri": "https://localhost:8080/"
        },
        "id": "dBk8Xgt3xhM8",
        "outputId": "63b64240-6ae8-42ba-c0a6-bea446e871db"
      },
      "execution_count": null,
      "outputs": [
        {
          "output_type": "stream",
          "name": "stdout",
          "text": [
            "기존 데이터프레임을 전치한 후 값만 추출 : \n",
            "[[9436836 3317812 2964820 2365619]\n",
            " [9904312 3448737 2890451 2466052]\n",
            " [9631482 3393191 2632035 2431774]\n",
            " [9762546 3512547 2517680 2456016]]\n",
            "--------------------------------------------------------------------------------\n",
            "        Seoul    Busan   Inchon   Daegue\n",
            "2022  9436836  3317812  2964820  2365619\n",
            "2015  9904312  3448737  2890451  2466052\n",
            "2010  9631482  3393191  2632035  2431774\n",
            "2005  9762546  3512547  2517680  2456016\n"
          ]
        }
      ]
    },
    {
      "cell_type": "code",
      "source": [
        "### csv 파일 처리\n",
        "\n",
        "# 필요한 라이브러리 임폴트\n",
        "import pandas as pd\n",
        "\n",
        "# pd.read_csv(filepath_or_buffer) 사용\n",
        "file_path = '/content/drive/MyDrive/데이터분석/dataframe.csv'\n",
        "df = pd.read_csv(file_path)\n",
        "\n",
        "# 결과 확인하기\n",
        "print(df)"
      ],
      "metadata": {
        "colab": {
          "base_uri": "https://localhost:8080/"
        },
        "id": "JAoAjerOBXBM",
        "outputId": "1b5b3561-d6b7-4417-9839-2bfb8ccd96e4"
      },
      "execution_count": null,
      "outputs": [
        {
          "output_type": "stream",
          "name": "stdout",
          "text": [
            "                                              sentence  label\n",
            "0    본 발명은 2종 이상의 생약 추출물을 유효성분으로 포함하는, 면역력 증진용 조성물 ...      1\n",
            "1    본 발명은 타히보 추출물 및 팔각회향을 유효성분으로 포함하는 면역 증진용 조성물에 ...      1\n",
            "2    본 출원은 신규한 터키 겨우살이의 추출물, 렉틴 및 상기 추출물 또는 렉틴의 제조방...      1\n",
            "3    아로니아(Aronia) 열매 추출물, 댕댕이나무(Lonicera caerulea) ...      1\n",
            "4    본 발명의 청각 추출물 및 홍삼 추출물을 포함하는 선천성 면역 증진용 조성물에 관한...      1\n",
            "..                                                 ...    ...\n",
            "145  본 발명은 엉겅퀴(Cirsium japonicum var. ussuriense) 잎...      1\n",
            "146  본 발명은 어성초 초임계 추출물을 유효성분으로 함유하는 관절염 질환의 예방 및 치료...      1\n",
            "147  본 발명은 항염증 활성과 파골세포 억제 효과를 갖는 두충 추출물, 상기 추출물을 유...      1\n",
            "148  본 발명은 유효성분으로서 다음과 같은 진세노사이드 함량을 나타내는 홍삼 발효액을 포...      1\n",
            "149  본 발명은 전통 한의약 이론에 근거하여 한방의 복합 생약추출물에 발효기술을 이용하여...      1\n",
            "\n",
            "[150 rows x 2 columns]\n"
          ]
        }
      ]
    },
    {
      "cell_type": "code",
      "source": [
        "### DataFrame --> info() 함수 --> 전반적인 정보 확인\n",
        "df.info()"
      ],
      "metadata": {
        "colab": {
          "base_uri": "https://localhost:8080/"
        },
        "id": "tvNk3CajFFWl",
        "outputId": "8c8fe3d6-1a56-42b1-c12d-ec8b9b98a748"
      },
      "execution_count": 9,
      "outputs": [
        {
          "output_type": "stream",
          "name": "stdout",
          "text": [
            "<class 'pandas.core.frame.DataFrame'>\n",
            "RangeIndex: 150 entries, 0 to 149\n",
            "Data columns (total 2 columns):\n",
            " #   Column    Non-Null Count  Dtype \n",
            "---  ------    --------------  ----- \n",
            " 0   sentence  147 non-null    object\n",
            " 1   label     150 non-null    int64 \n",
            "dtypes: int64(1), object(1)\n",
            "memory usage: 2.5+ KB\n"
          ]
        }
      ]
    },
    {
      "cell_type": "code",
      "source": [
        "### 누락 데이터 확인 --> 행 인덱스 : 11 ~ 13 --> 슬라이싱\n",
        "print(df.iloc[11:14, :])"
      ],
      "metadata": {
        "colab": {
          "base_uri": "https://localhost:8080/"
        },
        "id": "BbWjANi7HWoE",
        "outputId": "a6c0df10-8869-41ca-8cb9-08df79b49212"
      },
      "execution_count": 10,
      "outputs": [
        {
          "output_type": "stream",
          "name": "stdout",
          "text": [
            "                                             sentence  label\n",
            "11  본 발명은 전처리한 우렁쉥이(Halocynthia roretzi) 껍질에 물 및 단...      1\n",
            "12                                                NaN      1\n",
            "13  본 발명은 2종 이상의 생약 추출물을 유효성분으로 포함하는, 면역력 증진용 조성물 ...      1\n"
          ]
        }
      ]
    },
    {
      "cell_type": "code",
      "source": [
        "### 누락 데이터 확인 --> isnull() 사용\n",
        "\n",
        "# # 데이터프레임 --> 각 컬럼별 누락 데이터 여부 확인\n",
        "# df_bool = df.isnull()\n",
        "# print(df_bool)\n",
        "\n",
        "# print('-'*80)\n",
        "\n",
        "# # 블리언 값으로 채워진 데이터프레임 --> sum() 사용\n",
        "# num_nulls = df_bool.sum()\n",
        "# print(f'각 컬럼 별 누락 데이터의 수 : \\n{num_nulls}')\n",
        "\n",
        "# 데이터프레임 --> 각 컬럼별 누락 데이터의 수 확인\n",
        "num_nulls = df.isnull().sum()\n",
        "print(f'각 컬럼별 누락 데이터의 수 : \\n{num_nulls}')"
      ],
      "metadata": {
        "colab": {
          "base_uri": "https://localhost:8080/"
        },
        "id": "HLd1CwKvNzwu",
        "outputId": "b4a8a008-1b46-4c93-d854-e55898328af9"
      },
      "execution_count": 18,
      "outputs": [
        {
          "output_type": "stream",
          "name": "stdout",
          "text": [
            "각 컬럼별 누락 데이터의 수 : \n",
            "sentence    3\n",
            "label       0\n",
            "dtype: int64\n"
          ]
        }
      ]
    },
    {
      "cell_type": "code",
      "source": [
        "### 누락이 존재하는 sentence 컬럼 인덱싱(1)\n",
        "sentence = df.loc[:, 'sentence']\n",
        "print(sentence)"
      ],
      "metadata": {
        "colab": {
          "base_uri": "https://localhost:8080/"
        },
        "id": "qLEKkyPTTm9U",
        "outputId": "6965b617-cce0-44fb-a12c-5d86c000ece1"
      },
      "execution_count": 19,
      "outputs": [
        {
          "output_type": "stream",
          "name": "stdout",
          "text": [
            "0      본 발명은 2종 이상의 생약 추출물을 유효성분으로 포함하는, 면역력 증진용 조성물 ...\n",
            "1      본 발명은 타히보 추출물 및 팔각회향을 유효성분으로 포함하는 면역 증진용 조성물에 ...\n",
            "2      본 출원은 신규한 터키 겨우살이의 추출물, 렉틴 및 상기 추출물 또는 렉틴의 제조방...\n",
            "3      아로니아(Aronia) 열매 추출물, 댕댕이나무(Lonicera caerulea) ...\n",
            "4      본 발명의 청각 추출물 및 홍삼 추출물을 포함하는 선천성 면역 증진용 조성물에 관한...\n",
            "                             ...                        \n",
            "145    본 발명은 엉겅퀴(Cirsium japonicum var. ussuriense) 잎...\n",
            "146    본 발명은 어성초 초임계 추출물을 유효성분으로 함유하는 관절염 질환의 예방 및 치료...\n",
            "147    본 발명은 항염증 활성과 파골세포 억제 효과를 갖는 두충 추출물, 상기 추출물을 유...\n",
            "148    본 발명은 유효성분으로서 다음과 같은 진세노사이드 함량을 나타내는 홍삼 발효액을 포...\n",
            "149    본 발명은 전통 한의약 이론에 근거하여 한방의 복합 생약추출물에 발효기술을 이용하여...\n",
            "Name: sentence, Length: 150, dtype: object\n"
          ]
        }
      ]
    },
    {
      "cell_type": "code",
      "source": [
        "### 누락이 존재하는 sentence 컬럼 인덱싱(2)\n",
        "\n",
        "# df.col 적용\n",
        "sentence = df.sentence\n",
        "print(sentence)"
      ],
      "metadata": {
        "colab": {
          "base_uri": "https://localhost:8080/"
        },
        "id": "MoC70NXBVIPd",
        "outputId": "8062c499-988f-4ab9-d873-3b49eefb2ba6"
      },
      "execution_count": 21,
      "outputs": [
        {
          "output_type": "stream",
          "name": "stdout",
          "text": [
            "0      본 발명은 2종 이상의 생약 추출물을 유효성분으로 포함하는, 면역력 증진용 조성물 ...\n",
            "1      본 발명은 타히보 추출물 및 팔각회향을 유효성분으로 포함하는 면역 증진용 조성물에 ...\n",
            "2      본 출원은 신규한 터키 겨우살이의 추출물, 렉틴 및 상기 추출물 또는 렉틴의 제조방...\n",
            "3      아로니아(Aronia) 열매 추출물, 댕댕이나무(Lonicera caerulea) ...\n",
            "4      본 발명의 청각 추출물 및 홍삼 추출물을 포함하는 선천성 면역 증진용 조성물에 관한...\n",
            "                             ...                        \n",
            "145    본 발명은 엉겅퀴(Cirsium japonicum var. ussuriense) 잎...\n",
            "146    본 발명은 어성초 초임계 추출물을 유효성분으로 함유하는 관절염 질환의 예방 및 치료...\n",
            "147    본 발명은 항염증 활성과 파골세포 억제 효과를 갖는 두충 추출물, 상기 추출물을 유...\n",
            "148    본 발명은 유효성분으로서 다음과 같은 진세노사이드 함량을 나타내는 홍삼 발효액을 포...\n",
            "149    본 발명은 전통 한의약 이론에 근거하여 한방의 복합 생약추출물에 발효기술을 이용하여...\n",
            "Name: sentence, Length: 150, dtype: object\n"
          ]
        }
      ]
    },
    {
      "cell_type": "code",
      "source": [
        "### 누락이 존재하는 컬럼 --> 누락이 존재하는 행 추출\n",
        "\n",
        "# df.col.isnull() 함수 적용 --> 비교 연산을 한 경우와 같은 결과\n",
        "condition = df.sentence.isnull()\n",
        "print(condition)\n",
        "\n",
        "print('-'*80)\n",
        "\n",
        "# 비교 연산의 결과 --> 인덱싱에 적용 --> 블리언 인덱싱\n",
        "nulls = df.sentence.loc[condition]\n",
        "print(f'sentence 컬럼에 존재하는 누락 데이터 추출 : \\n{nulls}')"
      ],
      "metadata": {
        "colab": {
          "base_uri": "https://localhost:8080/"
        },
        "id": "KFQf-wWvZSAN",
        "outputId": "2ff0573c-bd0f-473f-ebf8-f6de51a52aed"
      },
      "execution_count": 26,
      "outputs": [
        {
          "output_type": "stream",
          "name": "stdout",
          "text": [
            "0      False\n",
            "1      False\n",
            "2      False\n",
            "3      False\n",
            "4      False\n",
            "       ...  \n",
            "145    False\n",
            "146    False\n",
            "147    False\n",
            "148    False\n",
            "149    False\n",
            "Name: sentence, Length: 150, dtype: bool\n",
            "--------------------------------------------------------------------------------\n",
            "sentence 컬럼에 존재하는 누락 데이터 추출 : \n",
            "12    NaN\n",
            "39    NaN\n",
            "70    NaN\n",
            "Name: sentence, dtype: object\n"
          ]
        }
      ]
    },
    {
      "cell_type": "code",
      "source": [
        "### 누락 데이터 처리 --> 제거 --> dropna() --> 누락 데이터가 존재하는 행 제거\n",
        "df_cleaned=df.dropna(ignore_index=True)\n",
        "\n",
        "# 결과 확인하기\n",
        "print(f'원본 데이터 : \\n{df}')\n",
        "print('-'*80)\n",
        "print(f'누락이 존재하는 행 제거 후 데이터프레임 : \\n{df_cleaned}')"
      ],
      "metadata": {
        "colab": {
          "base_uri": "https://localhost:8080/"
        },
        "id": "TSYzPst4eu1l",
        "outputId": "e68bb402-1a74-466e-f365-92fd3162ff9a"
      },
      "execution_count": 31,
      "outputs": [
        {
          "output_type": "stream",
          "name": "stdout",
          "text": [
            "원본 데이터 : \n",
            "                                              sentence  label\n",
            "0    본 발명은 2종 이상의 생약 추출물을 유효성분으로 포함하는, 면역력 증진용 조성물 ...      1\n",
            "1    본 발명은 타히보 추출물 및 팔각회향을 유효성분으로 포함하는 면역 증진용 조성물에 ...      1\n",
            "2    본 출원은 신규한 터키 겨우살이의 추출물, 렉틴 및 상기 추출물 또는 렉틴의 제조방...      1\n",
            "3    아로니아(Aronia) 열매 추출물, 댕댕이나무(Lonicera caerulea) ...      1\n",
            "4    본 발명의 청각 추출물 및 홍삼 추출물을 포함하는 선천성 면역 증진용 조성물에 관한...      1\n",
            "..                                                 ...    ...\n",
            "145  본 발명은 엉겅퀴(Cirsium japonicum var. ussuriense) 잎...      1\n",
            "146  본 발명은 어성초 초임계 추출물을 유효성분으로 함유하는 관절염 질환의 예방 및 치료...      1\n",
            "147  본 발명은 항염증 활성과 파골세포 억제 효과를 갖는 두충 추출물, 상기 추출물을 유...      1\n",
            "148  본 발명은 유효성분으로서 다음과 같은 진세노사이드 함량을 나타내는 홍삼 발효액을 포...      1\n",
            "149  본 발명은 전통 한의약 이론에 근거하여 한방의 복합 생약추출물에 발효기술을 이용하여...      1\n",
            "\n",
            "[150 rows x 2 columns]\n",
            "--------------------------------------------------------------------------------\n",
            "누락이 존재하는 행 제거 후 데이터프레임 : \n",
            "                                              sentence  label\n",
            "0    본 발명은 2종 이상의 생약 추출물을 유효성분으로 포함하는, 면역력 증진용 조성물 ...      1\n",
            "1    본 발명은 타히보 추출물 및 팔각회향을 유효성분으로 포함하는 면역 증진용 조성물에 ...      1\n",
            "2    본 출원은 신규한 터키 겨우살이의 추출물, 렉틴 및 상기 추출물 또는 렉틴의 제조방...      1\n",
            "3    아로니아(Aronia) 열매 추출물, 댕댕이나무(Lonicera caerulea) ...      1\n",
            "4    본 발명의 청각 추출물 및 홍삼 추출물을 포함하는 선천성 면역 증진용 조성물에 관한...      1\n",
            "..                                                 ...    ...\n",
            "142  본 발명은 엉겅퀴(Cirsium japonicum var. ussuriense) 잎...      1\n",
            "143  본 발명은 어성초 초임계 추출물을 유효성분으로 함유하는 관절염 질환의 예방 및 치료...      1\n",
            "144  본 발명은 항염증 활성과 파골세포 억제 효과를 갖는 두충 추출물, 상기 추출물을 유...      1\n",
            "145  본 발명은 유효성분으로서 다음과 같은 진세노사이드 함량을 나타내는 홍삼 발효액을 포...      1\n",
            "146  본 발명은 전통 한의약 이론에 근거하여 한방의 복합 생약추출물에 발효기술을 이용하여...      1\n",
            "\n",
            "[147 rows x 2 columns]\n"
          ]
        }
      ]
    },
    {
      "cell_type": "code",
      "source": [
        "### pandas version 확인\n",
        "print(pd.__version__)"
      ],
      "metadata": {
        "colab": {
          "base_uri": "https://localhost:8080/"
        },
        "id": "y-j9HHhsiddV",
        "outputId": "c06a97a6-016b-432e-c874-e81869c4e694"
      },
      "execution_count": 32,
      "outputs": [
        {
          "output_type": "stream",
          "name": "stdout",
          "text": [
            "2.0.3\n"
          ]
        }
      ]
    },
    {
      "cell_type": "code",
      "source": [
        "### 누락 데이터 처리 --> 누락을 대체 --> fillna(value=data) 함수\n",
        "df_filled = df.fillna(\"내용 없음\")\n",
        "\n",
        "# 결과 확인하기\n",
        "print(df_filled.isnull().sum())\n",
        "print('-'*80)\n",
        "print(df_filled.iloc[[12,39,70], :])"
      ],
      "metadata": {
        "colab": {
          "base_uri": "https://localhost:8080/"
        },
        "id": "TauFGfaUmWEE",
        "outputId": "de9bb289-265a-4bdc-b27d-486009482d53"
      },
      "execution_count": 36,
      "outputs": [
        {
          "output_type": "stream",
          "name": "stdout",
          "text": [
            "sentence    0\n",
            "label       0\n",
            "dtype: int64\n",
            "--------------------------------------------------------------------------------\n",
            "   sentence  label\n",
            "12    내용 없음      1\n",
            "39    내용 없음      0\n",
            "70    내용 없음      1\n"
          ]
        }
      ]
    },
    {
      "cell_type": "code",
      "source": [
        "### value_counts() 함수 --> 범주형 컬럼 --> 항목별 개수(빈도수) 추출\n",
        "counts = df.loc[:, 'label'].value_counts()\n",
        "print(f'label 컬럼의 항목별 빈도수 : \\n{counts}')"
      ],
      "metadata": {
        "colab": {
          "base_uri": "https://localhost:8080/"
        },
        "id": "34w8VuxFprTc",
        "outputId": "e12b56da-50b8-47f6-cadd-bbc3799047ba"
      },
      "execution_count": 38,
      "outputs": [
        {
          "output_type": "stream",
          "name": "stdout",
          "text": [
            "label 컬럼의 항목별 빈도수 : \n",
            "label\n",
            "1    99\n",
            "0    51\n",
            "Name: count, dtype: int64\n"
          ]
        }
      ]
    },
    {
      "cell_type": "code",
      "source": [
        "### concat 실습용 데이터 생성\n",
        "\n",
        "data1 = {'A' : ['A0', 'A1', 'A2', 'A3'],\n",
        "         'B' : ['B0', 'B1', 'B2', 'B3'],\n",
        "         'C' : ['C0', 'C1', 'C2', 'C3'],\n",
        "         'D' : ['D0', 'D1', 'D2', 'D3']}\n",
        "\n",
        "\n",
        "data2 = {'A' : ['A4', 'A5', 'A6', 'A7'],\n",
        "         'B' : ['B4', 'B5', 'B6', 'B7'],\n",
        "         'C' : ['C4', 'C5', 'C6', 'C7'],\n",
        "         'D' : ['D4', 'D5', 'D6', 'D7']}\n",
        "\n",
        "\n",
        "data3 = {'A' : ['A8', 'A9', 'A10', 'A11'],\n",
        "         'B' : ['B8', 'B9', 'B10', 'B11'],\n",
        "         'C' : ['C8', 'C9', 'C10', 'C11'],\n",
        "         'D' : ['D8', 'D9', 'D10', 'D11']}\n",
        "\n",
        "\n",
        "df1 = pd.DataFrame(data=data1)\n",
        "df2 = pd.DataFrame(data=data2)\n",
        "df3 = pd.DataFrame(data=data3)\n",
        "\n",
        "# 결과 확인하기\n",
        "print(df1)\n",
        "print('-'*80)\n",
        "print(df2)\n",
        "print('-'*80)\n",
        "print(df3)"
      ],
      "metadata": {
        "colab": {
          "base_uri": "https://localhost:8080/"
        },
        "id": "fUzTfo45udVP",
        "outputId": "6fdd6a7d-f16b-454b-ade8-bdfbe1e19fc1"
      },
      "execution_count": 39,
      "outputs": [
        {
          "output_type": "stream",
          "name": "stdout",
          "text": [
            "    A   B   C   D\n",
            "0  A0  B0  C0  D0\n",
            "1  A1  B1  C1  D1\n",
            "2  A2  B2  C2  D2\n",
            "3  A3  B3  C3  D3\n",
            "--------------------------------------------------------------------------------\n",
            "    A   B   C   D\n",
            "0  A4  B4  C4  D4\n",
            "1  A5  B5  C5  D5\n",
            "2  A6  B6  C6  D6\n",
            "3  A7  B7  C7  D7\n",
            "--------------------------------------------------------------------------------\n",
            "     A    B    C    D\n",
            "0   A8   B8   C8   D8\n",
            "1   A9   B9   C9   D9\n",
            "2  A10  B10  C10  D10\n",
            "3  A11  B11  C11  D11\n"
          ]
        }
      ]
    },
    {
      "cell_type": "code",
      "source": [
        "### concat() 함수 사용 --> 컬럼 공통 --> axis=0으로 병합\n",
        "df_concat = pd.concat([df1, df2, df3], axis=0, ignore_index=True)\n",
        "\n",
        "# 결과 확인하기\n",
        "print(df_concat)"
      ],
      "metadata": {
        "colab": {
          "base_uri": "https://localhost:8080/"
        },
        "id": "2ltDlSx1vPC8",
        "outputId": "406fff8b-b397-49fe-da43-a2d3cf728a0d"
      },
      "execution_count": 41,
      "outputs": [
        {
          "output_type": "stream",
          "name": "stdout",
          "text": [
            "      A    B    C    D\n",
            "0    A0   B0   C0   D0\n",
            "1    A1   B1   C1   D1\n",
            "2    A2   B2   C2   D2\n",
            "3    A3   B3   C3   D3\n",
            "4    A4   B4   C4   D4\n",
            "5    A5   B5   C5   D5\n",
            "6    A6   B6   C6   D6\n",
            "7    A7   B7   C7   D7\n",
            "8    A8   B8   C8   D8\n",
            "9    A9   B9   C9   D9\n",
            "10  A10  B10  C10  D10\n",
            "11  A11  B11  C11  D11\n"
          ]
        }
      ]
    },
    {
      "cell_type": "code",
      "source": [
        "### concat() 함수 사용 --> 컬럼 공통 --> axis=0으로 병합\n",
        "df_concat1 = pd.concat([df1, df2, df3], axis=1)\n",
        "\n",
        "# 결과 확인하기\n",
        "print(df_concat1)"
      ],
      "metadata": {
        "colab": {
          "base_uri": "https://localhost:8080/"
        },
        "id": "6GpE6LMgxCNP",
        "outputId": "9b9652e8-e1aa-4393-88c2-bbc54e089d1d"
      },
      "execution_count": 42,
      "outputs": [
        {
          "output_type": "stream",
          "name": "stdout",
          "text": [
            "    A   B   C   D   A   B   C   D    A    B    C    D\n",
            "0  A0  B0  C0  D0  A4  B4  C4  D4   A8   B8   C8   D8\n",
            "1  A1  B1  C1  D1  A5  B5  C5  D5   A9   B9   C9   D9\n",
            "2  A2  B2  C2  D2  A6  B6  C6  D6  A10  B10  C10  D10\n",
            "3  A3  B3  C3  D3  A7  B7  C7  D7  A11  B11  C11  D11\n"
          ]
        }
      ]
    }
  ]
}